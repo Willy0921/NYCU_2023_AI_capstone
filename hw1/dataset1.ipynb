{
  "cells": [
    {
      "cell_type": "code",
      "execution_count": 28,
      "metadata": {
        "colab": {
          "base_uri": "https://localhost:8080/"
        },
        "id": "933s33bIx8pi",
        "outputId": "59bb348c-9170-44fa-dc58-38ce72836b19"
      },
      "outputs": [],
      "source": [
        "import torch\n",
        "import torch.nn as nn\n",
        "import os\n",
        "import numpy as np\n",
        "import torch.nn.functional as F\n",
        "import itertools\n",
        "from torch import Tensor\n",
        "from torch.optim import SGD\n",
        "from torch.nn import CrossEntropyLoss\n",
        "from sklearn.metrics import accuracy_score, confusion_matrix, classification_report\n",
        "from tqdm import tqdm\n",
        "import matplotlib.pyplot as plt\n",
        "from google.colab import drive\n",
        "\n",
        "drive.mount('/content/drive')"
      ]
    },
    {
      "cell_type": "code",
      "execution_count": 29,
      "metadata": {
        "id": "tKpkSn6Hx8pn"
      },
      "outputs": [],
      "source": [
        "# train the model\n",
        "def train_model(train_dl, model, test_dl, gpu_mode, draw_plt, device):\n",
        "    # define the optimization\n",
        "    criterion = CrossEntropyLoss()\n",
        "    optimizer = SGD(model.parameters(), lr=0.1, momentum=0.9)\n",
        "    # enumerate epochs\n",
        "    performance = []\n",
        "    for _ in tqdm(range(300)):\n",
        "        if draw_plt:\n",
        "            model.train()\n",
        "        # enumerate mini batches\n",
        "        for i, (inputs, targets) in enumerate(train_dl):\n",
        "            if gpu_mode:\n",
        "              inputs = inputs.to(device)\n",
        "              targets = targets.to(device)\n",
        "            targets_one_hot = F.one_hot(targets, num_classes=6)\n",
        "\n",
        "            targets_one_hot = targets_one_hot.view(-1, 6).to(torch.float)\n",
        "            # clear the gradients\n",
        "            optimizer.zero_grad()\n",
        "            # compute the model output\n",
        "            pred = model(inputs)\n",
        "            pred = pred.view(-1, 6)\n",
        "\n",
        "            # calculate loss\n",
        "            loss = criterion(pred, targets_one_hot)\n",
        "            # credit assignment\n",
        "            loss.backward()\n",
        "            # update model weights\n",
        "            optimizer.step()\n",
        "        \n",
        "        if draw_plt:\n",
        "            model.eval()\n",
        "            performance.append(evaluate_model(test_dl, model, gpu_mode))\n",
        "\n",
        "    return performance\n",
        "\n",
        "# evaluate the model\n",
        "def evaluate_model(test_dl, model, gpu_mode, device):\n",
        "    predictions, actuals = [], []\n",
        "    for i, (inputs, targets) in enumerate(test_dl):\n",
        "        # evaluate the model on the test set\n",
        "        if gpu_mode:\n",
        "          inputs = inputs.to(device)\n",
        "          targets = targets.to(device)\n",
        "        yhat = model(inputs)\n",
        "        # retrieve numpy array     \n",
        "        actual = targets.cpu().numpy()\n",
        "        actual = actual.reshape((-1, 1))\n",
        "        # round to class values\n",
        "        yhat = torch.argmax(yhat, dim=1).cpu().numpy()\n",
        "        yhat = yhat.reshape((-1, 1))\n",
        "        predictions.append(yhat)\n",
        "        actuals.append(actual)\n",
        "    predictions = np.vstack(predictions)\n",
        "    actuals = np.vstack(actuals)\n",
        "\n",
        "    return accuracy_score(actuals, predictions)   \n",
        "# make a class prediction for one row of data\n",
        "def predict(row, model):\n",
        "    # convert row to data\n",
        "    row = Tensor([row])\n",
        "    # make prediction\n",
        "    pred = model(row)\n",
        "    # retrieve numpy array\n",
        "    pred = np.argmax(pred.detach().numpy())\n",
        "    return pred"
      ]
    },
    {
      "cell_type": "code",
      "execution_count": 30,
      "metadata": {
        "id": "IF21Busdx8pl"
      },
      "outputs": [],
      "source": [
        "class Dataset(torch.utils.data.Dataset):\n",
        "    def __init__(self, train_X, train_y):\n",
        "        self.X = torch.from_numpy(train_X)\n",
        "        self.labels = torch.from_numpy(train_y.astype(int)).view(-1, 1) - 1\n",
        "\n",
        "    def __len__(self):\n",
        "        return len(self.X)\n",
        "\n",
        "    def __getitem__(self, index):\n",
        "        return self.X[index], self.labels[index]\n",
        "class MLP(nn.Module):\n",
        "\n",
        "    def __init__(self):\n",
        "        super(MLP, self).__init__()\n",
        "        self.input_layer = nn.Linear(48 * 48 * 3, 4096)\n",
        "        self.output_layer = nn.Linear(4096, 6)\n",
        "\n",
        "    def forward(self, x):\n",
        "        x = x.view(-1, 48 * 48 * 3)\n",
        "        x = self.input_layer(x)\n",
        "        x = F.relu(x)\n",
        "        x = self.output_layer(x)\n",
        "        x = torch.softmax(x, dim=1)\n",
        "        return x"
      ]
    },
    {
      "cell_type": "code",
      "execution_count": 31,
      "metadata": {
        "id": "tAyLlrUMkOGn"
      },
      "outputs": [],
      "source": [
        "class CNN(nn.Module):\n",
        "\n",
        "    def __init__(self):\n",
        "        super(CNN, self).__init__()\n",
        "        self.conv1 = nn.Sequential(\n",
        "            nn.Conv2d(\n",
        "                in_channels=3,\n",
        "                out_channels=16,\n",
        "                kernel_size=3,\n",
        "                stride=1,\n",
        "                padding=2,\n",
        "            ),\n",
        "            nn.ReLU(),\n",
        "            nn.MaxPool2d(kernel_size=2),\n",
        "        )\n",
        "        self.conv2 = nn.Sequential(\n",
        "            nn.Conv2d(16, 32, 3, 1, 2),\n",
        "            nn.ReLU(),\n",
        "            nn.MaxPool2d(2),\n",
        "        )\n",
        "        self.out = nn.Linear(32 * 13 * 13, 6)\n",
        "\n",
        "    def forward(self, x):\n",
        "        x = self.conv1(x)\n",
        "        x = self.conv2(x)\n",
        "        x = x.view(x.size(0), -1)\n",
        "        x = self.out(x)\n",
        "        x = torch.softmax(x, dim=1)\n",
        "        return x"
      ]
    },
    {
      "cell_type": "code",
      "execution_count": 32,
      "metadata": {
        "id": "oUjDRPMBS-7q"
      },
      "outputs": [],
      "source": [
        "def generate_confusion_matrix(cnf_matrix, classes, normalize=False, title='Confusion matrix'):\n",
        "    if normalize:\n",
        "        cnf_matrix = cnf_matrix.astype('float') / cnf_matrix.sum(axis=1)[:, np.newaxis]\n",
        "        print(\"Normalized confusion matrix\")\n",
        "    else:\n",
        "        print('Confusion matrix, without normalization')\n",
        "    plt.imshow(cnf_matrix, interpolation='nearest', cmap=plt.get_cmap('Blues'))\n",
        "    plt.title(title)\n",
        "    plt.colorbar()\n",
        "    tick_marks = np.arange(len(classes))\n",
        "    plt.xticks(tick_marks, classes, rotation=45)\n",
        "    plt.yticks(tick_marks, classes)\n",
        "\n",
        "    fmt = '.2f' if normalize else 'd'\n",
        "    thresh = cnf_matrix.max() / 2.\n",
        "\n",
        "    for i, j in itertools.product(range(cnf_matrix.shape[0]), range(cnf_matrix.shape[1])):\n",
        "        plt.text(j, i, format(cnf_matrix[i, j], fmt), horizontalalignment=\"center\",\n",
        "                 color=\"white\" if cnf_matrix[i, j] > thresh else \"black\")\n",
        "    plt.tight_layout()\n",
        "    plt.ylabel('True label')\n",
        "    plt.xlabel('Predicted label')\n",
        "\n",
        "    return cnf_matrix\n",
        "\n",
        "def plot_confusion_matrix(predictions, actuals):\n",
        "    class_name=[0, 1, 2, 3, 4, 5]\n",
        "    cnf_matrix = confusion_matrix(actuals, predictions)\n",
        "    np.set_printoptions(precision=2)\n",
        "\n",
        "    # Plot non-normalized confusion matrix\n",
        "    plt.figure()\n",
        "    generate_confusion_matrix(cnf_matrix, classes=class_name, title='Confusion matrix, without normalization')\n",
        "    plt.show()\n",
        "\n",
        "    # Plot normalized confusion matrix\n",
        "    plt.figure()\n",
        "    generate_confusion_matrix(cnf_matrix, classes=class_name, normalize=True, title='Normalized confusion matrix')\n",
        "    plt.show()"
      ]
    },
    {
      "cell_type": "code",
      "execution_count": 33,
      "metadata": {
        "id": "pFy2QV93Nzfe"
      },
      "outputs": [],
      "source": [
        "def print_report(acc, actuals, predictions):\n",
        "    print('Accuracy: %s' % acc)\n",
        "    print()\n",
        "    plot_confusion_matrix(predictions, actuals)\n",
        "    print()\n",
        "    print('Confusion Matrix:')\n",
        "    print(confusion_matrix(actuals, predictions))\n",
        "    print()\n",
        "    print('Classification Report:')\n",
        "    print(classification_report(actuals, predictions, zero_division=1))\n",
        "\n",
        "def evaluate_report(test_dl, model, gpu_mode, device):\n",
        "    predictions, actuals = [], []\n",
        "    for i, (inputs, targets) in enumerate(test_dl):\n",
        "        # evaluate the model on the test set\n",
        "        if gpu_mode:\n",
        "          inputs = inputs.to(device)\n",
        "          targets = targets.to(device)\n",
        "        yhat = model(inputs)\n",
        "        # retrieve numpy array\n",
        "        \n",
        "        actual = targets.cpu().numpy()\n",
        "        actual = actual.reshape((-1, 1))\n",
        "        # round to class values\n",
        "        yhat = torch.argmax(yhat, dim=1).cpu().numpy()\n",
        "        yhat = yhat.reshape((-1, 1))\n",
        "\n",
        "        predictions.append(yhat)\n",
        "        actuals.append(actual)\n",
        "\n",
        "    predictions = np.vstack(predictions)\n",
        "    actuals = np.vstack(actuals)\n",
        "    acc = accuracy_score(actuals, predictions) \n",
        "\n",
        "    print_report(acc, actuals, predictions)\n",
        "\n",
        "\n"
      ]
    },
    {
      "cell_type": "code",
      "execution_count": 34,
      "metadata": {
        "id": "2o-G9UT_x8pm"
      },
      "outputs": [],
      "source": [
        "is_colab = False\n",
        "draw_plt = True\n",
        "gpu_mode = True\n",
        "\n",
        "batch_size = 64\n",
        "\n",
        "if torch.cuda.is_available(): \n",
        "    dev = \"cuda\" \n",
        "else: \n",
        "    dev = \"cpu\"\n",
        "device = torch.device(dev)"
      ]
    },
    {
      "cell_type": "code",
      "execution_count": 35,
      "metadata": {
        "id": "HdM5fJ61Hf2l"
      },
      "outputs": [],
      "source": [
        "part = 'part1'\n",
        "dataset_path = os.path.join('datasets', part)\n",
        "if is_colab:\n",
        "    dataset_path = os.path.join('/content/drive/MyDrive/AI_hw/hw1', dataset_path)\n",
        "    \n",
        "train_X_path  = os.path.join(dataset_path, 'train_X.npy')\n",
        "train_y_path  = os.path.join(dataset_path, 'train_y.npy')\n",
        "test_X_path = os.path.join(dataset_path, 'test_X.npy')\n",
        "test_X_path = os.path.join(dataset_path, 'test_y.npy')\n",
        "\n",
        "train_X = np.load(os.path.join(dataset_path, 'train_X.npy'))\n",
        "train_y = np.load(os.path.join(dataset_path, 'train_y.npy'))\n",
        "test_X = np.load(os.path.join(dataset_path, 'test_X.npy'))\n",
        "test_y = np.load(os.path.join(dataset_path, 'test_y.npy'))\n"
      ]
    },
    {
      "cell_type": "code",
      "execution_count": 36,
      "metadata": {
        "id": "vIuHjzeGc_IB"
      },
      "outputs": [],
      "source": [
        "train_dataset = Dataset(train_X, train_y)\n",
        "test_dataset = Dataset(test_X, test_y)"
      ]
    },
    {
      "cell_type": "code",
      "execution_count": 37,
      "metadata": {
        "colab": {
          "base_uri": "https://localhost:8080/",
          "height": 1000
        },
        "id": "KVQU5i9NIvU4",
        "outputId": "3acd084a-1f4e-4f09-8586-25fa24c45899"
      },
      "outputs": [
        {
          "name": "stderr",
          "output_type": "stream",
          "text": [
            "  0%|          | 0/300 [00:00<?, ?it/s]"
          ]
        },
        {
          "name": "stdout",
          "output_type": "stream",
          "text": [
            "tensor([[0],\n",
            "        [1],\n",
            "        [0],\n",
            "        [2],\n",
            "        [2],\n",
            "        [0],\n",
            "        [3],\n",
            "        [1],\n",
            "        [1],\n",
            "        [0],\n",
            "        [0],\n",
            "        [4],\n",
            "        [1],\n",
            "        [5],\n",
            "        [3],\n",
            "        [5],\n",
            "        [4],\n",
            "        [4],\n",
            "        [1],\n",
            "        [1],\n",
            "        [1],\n",
            "        [1],\n",
            "        [0],\n",
            "        [1],\n",
            "        [3],\n",
            "        [0],\n",
            "        [4],\n",
            "        [3],\n",
            "        [2],\n",
            "        [0],\n",
            "        [4],\n",
            "        [2],\n",
            "        [0],\n",
            "        [4],\n",
            "        [0],\n",
            "        [4],\n",
            "        [5],\n",
            "        [0],\n",
            "        [2],\n",
            "        [3],\n",
            "        [3],\n",
            "        [4],\n",
            "        [1],\n",
            "        [1],\n",
            "        [1],\n",
            "        [1],\n",
            "        [0],\n",
            "        [1],\n",
            "        [2],\n",
            "        [1],\n",
            "        [0],\n",
            "        [3],\n",
            "        [0],\n",
            "        [1],\n",
            "        [1],\n",
            "        [1],\n",
            "        [4],\n",
            "        [0],\n",
            "        [0],\n",
            "        [1],\n",
            "        [2],\n",
            "        [0],\n",
            "        [4],\n",
            "        [2]], device='cuda:0', dtype=torch.int32)\n"
          ]
        },
        {
          "name": "stderr",
          "output_type": "stream",
          "text": [
            "\n"
          ]
        },
        {
          "ename": "RuntimeError",
          "evalue": "one_hot is only applicable to index tensor.",
          "output_type": "error",
          "traceback": [
            "\u001b[1;31m---------------------------------------------------------------------------\u001b[0m",
            "\u001b[1;31mRuntimeError\u001b[0m                              Traceback (most recent call last)",
            "Cell \u001b[1;32mIn[37], line 20\u001b[0m\n\u001b[0;32m     17\u001b[0m \u001b[39mif\u001b[39;00m gpu_mode:\n\u001b[0;32m     18\u001b[0m     model\u001b[39m.\u001b[39mto(device)\n\u001b[1;32m---> 20\u001b[0m performance_per_epoch \u001b[39m=\u001b[39m np\u001b[39m.\u001b[39marray(train_model(trainloader, model, testloader, gpu_mode, draw_plt, device))\n\u001b[0;32m     23\u001b[0m \u001b[39mwith\u001b[39;00m torch\u001b[39m.\u001b[39mno_grad():\n\u001b[0;32m     24\u001b[0m     acc \u001b[39m=\u001b[39m evaluate_report(testloader, model, gpu_mode, device)\n",
            "Cell \u001b[1;32mIn[29], line 17\u001b[0m, in \u001b[0;36mtrain_model\u001b[1;34m(train_dl, model, test_dl, gpu_mode, draw_plt, device)\u001b[0m\n\u001b[0;32m     15\u001b[0m   targets \u001b[39m=\u001b[39m targets\u001b[39m.\u001b[39mto(device)\n\u001b[0;32m     16\u001b[0m \u001b[39mprint\u001b[39m(targets)\n\u001b[1;32m---> 17\u001b[0m targets_one_hot \u001b[39m=\u001b[39m F\u001b[39m.\u001b[39;49mone_hot(targets, num_classes\u001b[39m=\u001b[39;49m\u001b[39m6\u001b[39;49m)\n\u001b[0;32m     19\u001b[0m targets_one_hot \u001b[39m=\u001b[39m targets_one_hot\u001b[39m.\u001b[39mview(\u001b[39m-\u001b[39m\u001b[39m1\u001b[39m, \u001b[39m6\u001b[39m)\u001b[39m.\u001b[39mto(torch\u001b[39m.\u001b[39mfloat)\n\u001b[0;32m     20\u001b[0m \u001b[39m# clear the gradients\u001b[39;00m\n",
            "\u001b[1;31mRuntimeError\u001b[0m: one_hot is only applicable to index tensor."
          ]
        },
        {
          "data": {
            "image/png": "[encoded data removed]",
            "text/plain": [
              "<Figure size 640x480 with 1 Axes>"
            ]
          },
          "metadata": {},
          "output_type": "display_data"
        }
      ],
      "source": [
        "train_indices = list(range(len(train_X)))\n",
        "test_indices = list(range(len(test_X)))\n",
        "\n",
        "train_subsampler = torch.utils.data.SubsetRandomSampler(train_indices)\n",
        "test_subsampler = torch.utils.data.SubsetRandomSampler(test_indices)\n",
        "trainloader = torch.utils.data.DataLoader(train_dataset, batch_size=batch_size, sampler=train_subsampler)\n",
        "testloader = torch.utils.data.DataLoader(test_dataset, batch_size=batch_size, sampler=test_subsampler)\n",
        "\n",
        "CNN = CNN()\n",
        "MLP = MLP()\n",
        "models = [(MLP, 'MLP'), (CNN, 'CNN')]\n",
        "plt.cla()\n",
        "plt.xlabel('epoch')\n",
        "plt.ylabel('acc')\n",
        "for model, model_name in models:\n",
        "    if gpu_mode:\n",
        "        model.to(device)\n",
        "    performance_per_epoch = np.array(train_model(trainloader, model, testloader, gpu_mode, draw_plt, device))\n",
        "    with torch.no_grad():\n",
        "        acc = evaluate_report(testloader, model, gpu_mode, device)\n",
        "\n",
        "    if draw_plt:\n",
        "        plt.plot(performance_per_epoch, label = model_name)\n",
        "        plt.legend(loc = 'lower right')\n"
      ]
    }
  ],
  "metadata": {
    "accelerator": "GPU",
    "colab": {
      "provenance": []
    },
    "gpuClass": "standard",
    "kernelspec": {
      "display_name": "Python 3.8.10 64-bit",
      "name": "python3"
    },
    "language_info": {
      "codemirror_mode": {
        "name": "ipython",
        "version": 3
      },
      "file_extension": ".py",
      "mimetype": "text/x-python",
      "name": "python",
      "nbconvert_exporter": "python",
      "pygments_lexer": "ipython3",
      "version": "3.10.9"
    },
    "orig_nbformat": 4
  },
  "nbformat": 4,
  "nbformat_minor": 0
}
