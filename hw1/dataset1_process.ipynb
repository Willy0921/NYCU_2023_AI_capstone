{
 "cells": [
  {
   "cell_type": "code",
   "execution_count": 28,
   "metadata": {},
   "outputs": [],
   "source": [
    "import os\n",
    "import numpy as np\n",
    "import torchvision.transforms as transforms\n",
    "from PIL import Image\n",
    "from sklearn.metrics import accuracy_score"
   ]
  },
  {
   "cell_type": "code",
   "execution_count": 29,
   "metadata": {},
   "outputs": [],
   "source": [
    "def load_image_dataset(txt_path, source_path):\n",
    "    image_paths = []\n",
    "    labels = []\n",
    "    with open(txt_path, 'r') as file:\n",
    "        lines = file.readlines()\n",
    "        for line in lines:\n",
    "            row = line.split()\n",
    "            image_paths.append(os.path.join(source_path, row[0]))\n",
    "            labels.append(float(row[1]))\n",
    "    return image_paths, np.array(labels)"
   ]
  },
  {
   "cell_type": "code",
   "execution_count": 30,
   "metadata": {},
   "outputs": [],
   "source": [
    "def image_transform(image_paths):\n",
    "    dataset = []\n",
    "    for path in image_paths:\n",
    "\n",
    "        image = Image.open(path)\n",
    "        transform = transforms.Compose([\n",
    "                    transforms.Resize((48, 64)),\n",
    "                    transforms.CenterCrop((48, 48)),\n",
    "                    transforms.ToTensor(),\n",
    "                    transforms.Normalize(mean=[0.485, 0.456, 0.406], std=[0.229, 0.224, 0.225])\n",
    "                ])\n",
    "        image = transform(image).numpy()\n",
    "        dataset.append(image)\n",
    "    return np.array(dataset)"
   ]
  },
  {
   "cell_type": "code",
   "execution_count": 31,
   "metadata": {},
   "outputs": [
    {
     "name": "stdout",
     "output_type": "stream",
     "text": [
      "(431, 3, 48, 48)\n"
     ]
    }
   ],
   "source": [
    "dataset_path = 'datasets'\n",
    "part = 'part1'\n",
    "source_path = os.path.join(dataset_path, part)\n",
    "\n",
    "mode = 'test'\n",
    "txt_file = f'one-indexed-files-notrash_{mode}.txt'\n",
    "txt_path = os.path.join(dataset_path, txt_file)\n",
    "\n",
    "image_paths, labels = load_image_dataset(txt_path, source_path)\n",
    "\n",
    "dataset = image_transform(image_paths)\n",
    "\n",
    "np.save(f'{mode}_X.npy', dataset)\n",
    "np.save(f'{mode}_y.npy', labels)\n",
    "\n",
    "print(dataset.shape)"
   ]
  },
  {
   "cell_type": "code",
   "execution_count": 32,
   "metadata": {},
   "outputs": [
    {
     "data": {
      "text/plain": [
       "array([2., 2., 3., 1., 2., 3., 2., 2., 1., 4., 3., 5., 1., 2., 3., 4., 3.,\n",
       "       2., 2., 3., 1., 6., 4., 3., 4., 5., 5., 3., 3., 4., 4., 5., 5., 5.,\n",
       "       2., 3., 4., 1., 2., 1., 3., 6., 6., 4., 1., 1., 2., 2., 1., 2., 2.,\n",
       "       5., 5., 5., 1., 6., 5., 5., 3., 4., 2., 2., 4., 4., 5., 2., 2., 4.,\n",
       "       2., 4., 5., 5., 2., 4., 4., 1., 2., 4., 5., 5., 5., 4., 4., 5., 4.,\n",
       "       6., 6., 6., 4., 1., 4., 4., 2., 3., 4., 6., 6., 3., 2., 4., 2., 2.,\n",
       "       2., 3., 4., 1., 2., 6., 6., 2., 5., 3., 2., 4., 5., 1., 3., 3., 1.,\n",
       "       1., 2., 5., 3., 1., 4., 3., 6., 3., 2., 6., 2., 1., 4., 1., 3., 3.,\n",
       "       5., 1., 4., 6., 2., 5., 3., 2., 3., 3., 2., 1., 4., 3., 2., 4., 5.,\n",
       "       1., 4., 3., 6., 5., 5., 1., 2., 1., 1., 4., 5., 4., 2., 3., 1., 2.,\n",
       "       3., 5., 3., 6., 4., 5., 2., 6., 2., 6., 2., 2., 5., 1., 1., 1., 1.,\n",
       "       2., 1., 2., 3., 5., 2., 4., 1., 4., 2., 1., 5., 3., 1., 5., 5., 4.,\n",
       "       1., 4., 2., 4., 2., 5., 2., 1., 6., 3., 1., 3., 1., 2., 1., 3., 5.,\n",
       "       4., 4., 1., 2., 6., 5., 4., 6., 4., 1., 3., 2., 2., 3., 2., 2., 3.,\n",
       "       2., 2., 5., 1., 5., 4., 3., 1., 1., 2., 2., 1., 3., 2., 3., 2., 2.,\n",
       "       4., 2., 3., 2., 4., 1., 2., 2., 4., 2., 3., 1., 3., 1., 2., 1., 4.,\n",
       "       2., 2., 1., 2., 6., 1., 6., 2., 1., 5., 2., 2., 3., 5., 4., 5., 1.,\n",
       "       2., 5., 3., 5., 1., 1., 1., 4., 3., 4., 5., 4., 4., 1., 1., 2., 1.,\n",
       "       5., 1., 4., 6., 2., 1., 4., 2., 1., 5., 3., 5., 4., 5., 3., 1., 6.,\n",
       "       2., 2., 3., 2., 3., 1., 2., 4., 3., 2., 1., 1., 2., 3., 2., 1., 3.,\n",
       "       2., 2., 4., 4., 3., 3., 5., 3., 1., 2., 3., 5., 1., 3., 1., 4., 4.,\n",
       "       2., 4., 2., 3., 3., 3., 1., 3., 4., 6., 4., 1., 4., 1., 1., 4., 3.,\n",
       "       5., 2., 3., 1., 5., 2., 4., 2., 5., 2., 5., 2., 5., 5., 2., 5., 6.,\n",
       "       2., 1., 5., 2., 5., 1., 2., 3., 2., 1., 4., 2., 1., 1., 4., 2., 6.,\n",
       "       2., 3., 5., 3., 4., 3., 4., 5., 4., 5., 1., 1., 2., 4., 5., 5., 5.,\n",
       "       5., 5., 2., 2., 2., 6.])"
      ]
     },
     "execution_count": 32,
     "metadata": {},
     "output_type": "execute_result"
    }
   ],
   "source": [
    "labels"
   ]
  }
 ],
 "metadata": {
  "kernelspec": {
   "display_name": "shioaji",
   "language": "python",
   "name": "python3"
  },
  "language_info": {
   "codemirror_mode": {
    "name": "ipython",
    "version": 3
   },
   "file_extension": ".py",
   "mimetype": "text/x-python",
   "name": "python",
   "nbconvert_exporter": "python",
   "pygments_lexer": "ipython3",
   "version": "3.10.9"
  },
  "orig_nbformat": 4
 },
 "nbformat": 4,
 "nbformat_minor": 2
}
