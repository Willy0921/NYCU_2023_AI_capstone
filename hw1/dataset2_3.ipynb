{
  "cells": [
    {
      "cell_type": "code",
      "execution_count": 1,
      "metadata": {
        "colab": {
          "base_uri": "https://localhost:8080/"
        },
        "id": "o8kciEP7hf7l",
        "outputId": "effa375d-e3a1-4e51-be77-7b3064a317f6"
      },
      "outputs": [
        {
          "ename": "ImportError",
          "evalue": "cannot import name 'LearningCurveDisplay' from 'sklearn.model_selection' (c:\\Users\\miaok\\anaconda3\\envs\\shioaji\\lib\\site-packages\\sklearn\\model_selection\\__init__.py)",
          "output_type": "error",
          "traceback": [
            "\u001b[1;31m---------------------------------------------------------------------------\u001b[0m",
            "\u001b[1;31mImportError\u001b[0m                               Traceback (most recent call last)",
            "Cell \u001b[1;32mIn[1], line 7\u001b[0m\n\u001b[0;32m      5\u001b[0m \u001b[39mimport\u001b[39;00m \u001b[39mitertools\u001b[39;00m\n\u001b[0;32m      6\u001b[0m \u001b[39mfrom\u001b[39;00m \u001b[39msklearn\u001b[39;00m\u001b[39m.\u001b[39;00m\u001b[39mpreprocessing\u001b[39;00m \u001b[39mimport\u001b[39;00m StandardScaler\n\u001b[1;32m----> 7\u001b[0m \u001b[39mfrom\u001b[39;00m \u001b[39msklearn\u001b[39;00m\u001b[39m.\u001b[39;00m\u001b[39mmodel_selection\u001b[39;00m \u001b[39mimport\u001b[39;00m KFold, LearningCurveDisplay, cross_validate\n\u001b[0;32m      8\u001b[0m \u001b[39mfrom\u001b[39;00m \u001b[39msklearn\u001b[39;00m\u001b[39m.\u001b[39;00m\u001b[39mmetrics\u001b[39;00m \u001b[39mimport\u001b[39;00m accuracy_score, confusion_matrix, classification_report, roc_curve, RocCurveDisplay, ConfusionMatrixDisplay\n\u001b[0;32m      9\u001b[0m \u001b[39mfrom\u001b[39;00m \u001b[39msklearn\u001b[39;00m\u001b[39m.\u001b[39;00m\u001b[39mmetrics\u001b[39;00m \u001b[39mimport\u001b[39;00m make_scorer, accuracy_score, precision_score, recall_score, f1_score\n",
            "\u001b[1;31mImportError\u001b[0m: cannot import name 'LearningCurveDisplay' from 'sklearn.model_selection' (c:\\Users\\miaok\\anaconda3\\envs\\shioaji\\lib\\site-packages\\sklearn\\model_selection\\__init__.py)"
          ]
        }
      ],
      "source": [
        "import os\n",
        "import pandas as pd\n",
        "import numpy as np\n",
        "import matplotlib.pyplot as plt\n",
        "import itertools\n",
        "from sklearn.preprocessing import StandardScaler\n",
        "from sklearn.model_selection import KFold, LearningCurveDisplay, cross_validate\n",
        "from sklearn.metrics import accuracy_score, confusion_matrix, classification_report\n",
        "from sklearn.metrics import make_scorer, accuracy_score, precision_score, recall_score, f1_score\n",
        "from sklearn.feature_selection import VarianceThreshold\n",
        "from sklearn.neighbors import KNeighborsClassifier\n",
        "from sklearn.linear_model import LogisticRegression\n",
        "from sklearn.ensemble import RandomForestClassifier, AdaBoostClassifier\n",
        "from sklearn.pipeline import make_pipeline\n",
        "from google.colab import drive\n",
        "\n",
        "\n",
        "drive.mount('/content/drive')"
      ]
    },
    {
      "cell_type": "code",
      "execution_count": 35,
      "metadata": {
        "id": "hKbrnEhRdobW"
      },
      "outputs": [],
      "source": [
        "def report(predictions, y_test):\n",
        "    print('Accuracy: %s' % accuracy_score(y_test, predictions))\n",
        "    print()\n",
        "    print('Classification Report:')\n",
        "    print(classification_report(y_test, predictions, zero_division=1))"
      ]
    },
    {
      "cell_type": "code",
      "execution_count": 122,
      "metadata": {
        "id": "dbhKFwNVZPTX"
      },
      "outputs": [],
      "source": [
        "def plot_confusion_matrix(predicted_labels_list, y_test_list, class_names):\n",
        "    cnf_matrix = confusion_matrix(y_test_list, predicted_labels_list)\n",
        "    np.set_printoptions(precision=2)\n",
        "\n",
        "    # Plot non-normalized confusion matrix\n",
        "    plt.figure()\n",
        "    generate_confusion_matrix(cnf_matrix, classes=class_names, title='Confusion matrix, without normalization')\n",
        "    plt.show()\n",
        "\n",
        "    # Plot normalized confusion matrix\n",
        "    plt.figure()\n",
        "    generate_confusion_matrix(cnf_matrix, classes=class_names, normalize=True, title='Normalized confusion matrix')\n",
        "    plt.show()"
      ]
    },
    {
      "cell_type": "code",
      "execution_count": 37,
      "metadata": {
        "id": "U8UKgzEUbVeL"
      },
      "outputs": [],
      "source": [
        "def generate_confusion_matrix(cnf_matrix, classes, normalize=False, title='Confusion matrix'):\n",
        "    if normalize:\n",
        "        cnf_matrix = cnf_matrix.astype('float') / cnf_matrix.sum(axis=1)[:, np.newaxis]\n",
        "        print(\"Normalized confusion matrix\")\n",
        "    else:\n",
        "        print('Confusion matrix, without normalization')\n",
        "\n",
        "    plt.imshow(cnf_matrix, interpolation='nearest', cmap=plt.get_cmap('Blues'))\n",
        "    plt.title(title)\n",
        "    plt.colorbar()\n",
        "\n",
        "    tick_marks = np.arange(len(classes))\n",
        "    plt.xticks(tick_marks, classes, rotation=45)\n",
        "    plt.yticks(tick_marks, classes)\n",
        "\n",
        "    fmt = '.2f' if normalize else 'd'\n",
        "    thresh = cnf_matrix.max() / 2.\n",
        "\n",
        "    for i, j in itertools.product(range(cnf_matrix.shape[0]), range(cnf_matrix.shape[1])):\n",
        "        plt.text(j, i, format(cnf_matrix[i, j], fmt), horizontalalignment=\"center\",\n",
        "                 color=\"white\" if cnf_matrix[i, j] > thresh else \"black\")\n",
        "\n",
        "    plt.tight_layout()\n",
        "    plt.ylabel('True label')\n",
        "    plt.xlabel('Predicted label')\n",
        "\n",
        "    return cnf_matrix"
      ]
    },
    {
      "cell_type": "code",
      "execution_count": 38,
      "metadata": {
        "id": "eOcY8eTnanc6"
      },
      "outputs": [],
      "source": [
        "def evaluate_model(data_x, data_y, model):\n",
        "    k_fold = KFold(10, shuffle=True, random_state=1)\n",
        "\n",
        "    predicted_targets = np.array([])\n",
        "    actual_targets = np.array([])\n",
        "\n",
        "    for train_ix, test_ix in k_fold.split(data_x):\n",
        "        train_x, train_y, test_x, test_y = data_x[train_ix], data_y[train_ix], data_x[test_ix], data_y[test_ix]\n",
        "\n",
        "        # Fit the classifier\n",
        "        classifier = model.fit(train_x, train_y)\n",
        "\n",
        "        # Predict the labels of the test set samples\n",
        "        predicted_labels = classifier.predict(test_x)\n",
        "\n",
        "        predicted_targets = np.append(predicted_targets, predicted_labels)\n",
        "        actual_targets = np.append(actual_targets, test_y)\n",
        "\n",
        "    return predicted_targets, actual_targets"
      ]
    },
    {
      "cell_type": "code",
      "execution_count": 104,
      "metadata": {
        "id": "rLV9dEhmTSrs"
      },
      "outputs": [],
      "source": [
        "def load_dataset(part):\n",
        "    if part == 2:\n",
        "        path = '/content/drive/MyDrive/AI_hw/hw1/datasets/part2'\n",
        "        dataset = pd.read_csv(os.path.join(path, \"WineQT.csv\")).drop(columns=[\"Id\"]).values\n",
        "        X_train = dataset[:,:-1].astype(float)\n",
        "        y_train = dataset[:,-1].astype(float)\n",
        "    elif part == 3:\n",
        "        path = '/content/drive/MyDrive/AI_hw/hw1/datasets/part3'\n",
        "        dataset = pd.read_csv(os.path.join(path, \"dataset.csv\")).values\n",
        "        X_train = dataset[:,1:-1].astype(float)\n",
        "        y_train = dataset[:,-1].astype(float)\n",
        "    else:\n",
        "        return None, None\n",
        "    return X_train, y_train"
      ]
    },
    {
      "cell_type": "code",
      "execution_count": 112,
      "metadata": {
        "id": "NhBG0bRgnqKm"
      },
      "outputs": [],
      "source": [
        "# load dataset\n",
        "part = 3\n",
        "X_train, y_train = load_dataset(part)\n",
        "class_names = np.unique(y_train)\n",
        "selector = VarianceThreshold()\n",
        "X_train = selector.fit_transform(X_train)\n",
        "y_train = y_train.ravel()\n",
        "\n",
        "scaler = StandardScaler()\n",
        "X_train = scaler.fit_transform(X_train)\n",
        "\n",
        "scoring = {'accuracy' : make_scorer(accuracy_score), \n",
        "           'precision' : make_scorer(precision_score, average='weighted', zero_division=1),\n",
        "           'recall' : make_scorer(recall_score, average='weighted', zero_division=1), \n",
        "           'f1_score' : make_scorer(f1_score, average='weighted', zero_division=1)}"
      ]
    },
    {
      "cell_type": "code",
      "execution_count": 119,
      "metadata": {
        "colab": {
          "base_uri": "https://localhost:8080/"
        },
        "id": "yfimPkHEx4NO",
        "outputId": "cef20c62-0bdb-4063-bbc3-baf16aabab85"
      },
      "outputs": [
        {
          "name": "stdout",
          "output_type": "stream",
          "text": [
            "RandomForest\n",
            "data amount: 18\n",
            "acc\tprecision\trecall\tf1-score\n",
            "0.85\t0.95\t0.85\t0.8333333333333333\n",
            "--------------------------\n",
            "data amount: 38\n",
            "acc\tprecision\trecall\tf1-score\n",
            "0.775\t0.9541666666666666\t0.775\t0.79\n",
            "--------------------------\n",
            "data amount: 54\n",
            "acc\tprecision\trecall\tf1-score\n",
            "0.8833333333333334\t0.9283333333333333\t0.8833333333333334\t0.8711111111111112\n",
            "--------------------------\n",
            "data amount: 70\n",
            "acc\tprecision\trecall\tf1-score\n",
            "0.9\t0.9357142857142857\t0.9\t0.8980272108843537\n",
            "--------------------------\n",
            "AdaBoost\n",
            "data amount: 18\n",
            "acc\tprecision\trecall\tf1-score\n",
            "0.75\t0.925\t0.75\t0.75\n",
            "--------------------------\n",
            "data amount: 38\n",
            "acc\tprecision\trecall\tf1-score\n",
            "0.6\t0.9166666666666666\t0.6\t0.5666666666666667\n",
            "--------------------------\n",
            "data amount: 54\n",
            "acc\tprecision\trecall\tf1-score\n",
            "0.6433333333333333\t0.7716666666666666\t0.6433333333333333\t0.5767619047619048\n",
            "--------------------------\n",
            "data amount: 70\n",
            "acc\tprecision\trecall\tf1-score\n",
            "0.7\t0.828809523809524\t0.7\t0.6208163265306121\n",
            "--------------------------\n"
          ]
        }
      ],
      "source": [
        "# Evaluate different amount of training data\n",
        "compare_amounts = [18, 38, 54, 70]\n",
        "neigh = KNeighborsClassifier(n_neighbors=10)\n",
        "logist = LogisticRegression(random_state=0, solver='lbfgs', max_iter=1000)\n",
        "RF = RandomForestClassifier(random_state=0)\n",
        "AdaBoost = AdaBoostClassifier(random_state=0)\n",
        "models = [(RF,'RandomForest'),\n",
        "        (AdaBoost, 'AdaBoost')]\n",
        "\n",
        "for model, model_name in models:\n",
        "    print(f\"{model_name}\")\n",
        "    kfold = KFold(n_splits=10, random_state=0, shuffle=True)\n",
        "    for compare_amount in compare_amounts:\n",
        "        X_train_subset = X_train[:compare_amount]\n",
        "        y_train_subset = y_train[:compare_amount]\n",
        "        cv_results = cross_validate(model, X_train_subset, y_train_subset, cv=kfold, scoring=scoring)\n",
        "        print(f\"data amount: {compare_amount}\")\n",
        "        print(\"acc\\tprecision\\trecall\\tf1-score\")\n",
        "        print(f\"{np.mean(cv_results['test_accuracy'])}\\t{np.mean(cv_results['test_precision'])}\\t{np.mean(cv_results['test_recall'])}\\t{np.mean(cv_results['test_f1_score'])}\")\n",
        "        print(\"--------------------------\")"
      ]
    },
    {
      "cell_type": "code",
      "execution_count": 123,
      "metadata": {
        "colab": {
          "base_uri": "https://localhost:8080/",
          "height": 1000
        },
        "id": "x-CVzeMlxAFT",
        "outputId": "ce8ca163-c8b9-4bc3-ba48-0780b895f6c4"
      },
      "outputs": [
        {
          "name": "stdout",
          "output_type": "stream",
          "text": [
            "model: RandomForest\n",
            "Confusion matrix, without normalization\n"
          ]
        },
        {
          "data": {
            "image/png": "[encoded data removed]",
            "text/plain": [
              "<Figure size 432x288 with 2 Axes>"
            ]
          },
          "metadata": {
            "needs_background": "light"
          },
          "output_type": "display_data"
        },
        {
          "name": "stdout",
          "output_type": "stream",
          "text": [
            "Normalized confusion matrix\n"
          ]
        },
        {
          "data": {
            "image/png": "[encoded data removed]",
            "text/plain": [
              "<Figure size 432x288 with 2 Axes>"
            ]
          },
          "metadata": {
            "needs_background": "light"
          },
          "output_type": "display_data"
        },
        {
          "name": "stdout",
          "output_type": "stream",
          "text": [
            "Accuracy: 0.8857142857142857\n",
            "\n",
            "Classification Report:\n",
            "              precision    recall  f1-score   support\n",
            "\n",
            "         0.0       0.72      0.95      0.82        19\n",
            "         1.0       1.00      1.00      1.00        14\n",
            "         2.0       0.94      0.73      0.82        22\n",
            "         3.0       1.00      0.93      0.97        15\n",
            "\n",
            "    accuracy                           0.89        70\n",
            "   macro avg       0.92      0.90      0.90        70\n",
            "weighted avg       0.91      0.89      0.89        70\n",
            "\n",
            "model: AdaBoost\n",
            "Confusion matrix, without normalization\n"
          ]
        },
        {
          "data": {
            "image/png": "[encoded data removed]",
            "text/plain": [
              "<Figure size 432x288 with 2 Axes>"
            ]
          },
          "metadata": {
            "needs_background": "light"
          },
          "output_type": "display_data"
        },
        {
          "name": "stdout",
          "output_type": "stream",
          "text": [
            "Normalized confusion matrix\n"
          ]
        },
        {
          "data": {
            "image/png": "[encoded data removed]",
            "text/plain": [
              "<Figure size 432x288 with 2 Axes>"
            ]
          },
          "metadata": {
            "needs_background": "light"
          },
          "output_type": "display_data"
        },
        {
          "name": "stdout",
          "output_type": "stream",
          "text": [
            "Accuracy: 0.8857142857142857\n",
            "\n",
            "Classification Report:\n",
            "              precision    recall  f1-score   support\n",
            "\n",
            "         0.0       0.72      0.95      0.82        19\n",
            "         1.0       1.00      1.00      1.00        14\n",
            "         2.0       0.94      0.73      0.82        22\n",
            "         3.0       1.00      0.93      0.97        15\n",
            "\n",
            "    accuracy                           0.89        70\n",
            "   macro avg       0.92      0.90      0.90        70\n",
            "weighted avg       0.91      0.89      0.89        70\n",
            "\n"
          ]
        }
      ],
      "source": [
        "# evaluate different models\n",
        "\n",
        "neigh = KNeighborsClassifier(n_neighbors=10)\n",
        "logist = LogisticRegression(random_state=0, solver='lbfgs', max_iter=1000)\n",
        "RF = RandomForestClassifier(random_state=0)\n",
        "AdaBoost = AdaBoostClassifier(random_state=0)\n",
        "# models = [(neigh,'K-NN'),\n",
        "#         (logist,'Logistic Regression')]\n",
        "models = [(RF,'RandomForest'),\n",
        "        (AdaBoost, 'AdaBoost')]\n",
        "for model, model_name in models:\n",
        "    print(f\"model: {model_name}\")\n",
        "    predictions, labels = evaluate_model(X_train, y_train, neigh)\n",
        "    plot_confusion_matrix(predictions, labels, class_names)\n",
        "    report(predictions, labels)"
      ]
    },
    {
      "cell_type": "code",
      "execution_count": 86,
      "metadata": {
        "colab": {
          "base_uri": "https://localhost:8080/"
        },
        "id": "JCcv97X_t921",
        "outputId": "19430430-b892-4446-ec5f-21889ee41531"
      },
      "outputs": [
        {
          "name": "stdout",
          "output_type": "stream",
          "text": [
            "k = 1\n",
            "acc\t\t\tprecision\t\trecall\t\t\tf1-score\n",
            "0.8997584541062803\t0.9114083380387727\t0.8997584541062803\t0.8993264183481574\n",
            "--------------------------\n",
            "k = 2\n",
            "acc\t\t\tprecision\t\trecall\t\t\tf1-score\n",
            "0.8858695652173912\t0.8979511732229124\t0.8858695652173912\t0.8851734014777493\n",
            "--------------------------\n",
            "k = 3\n",
            "acc\t\t\tprecision\t\trecall\t\t\tf1-score\n",
            "0.8707729468599034\t0.8746502289980551\t0.8707729468599034\t0.8704689030775987\n",
            "--------------------------\n",
            "k = 4\n",
            "acc\t\t\tprecision\t\trecall\t\t\tf1-score\n",
            "0.8997584541062801\t0.9173184571735297\t0.8997584541062801\t0.8985256742050219\n",
            "--------------------------\n",
            "k = 5\n",
            "acc\t\t\tprecision\t\trecall\t\t\tf1-score\n",
            "0.9136473429951691\t0.9267706176673568\t0.9136473429951691\t0.9132878795922273\n",
            "--------------------------\n",
            "k = 6\n",
            "acc\t\t\tprecision\t\trecall\t\t\tf1-score\n",
            "0.8852657004830918\t0.9079441760601181\t0.8852657004830918\t0.885357301768915\n",
            "--------------------------\n",
            "k = 7\n",
            "acc\t\t\tprecision\t\trecall\t\t\tf1-score\n",
            "0.8997584541062801\t0.9173184571735297\t0.8997584541062801\t0.8985256742050219\n",
            "--------------------------\n",
            "k = 8\n",
            "acc\t\t\tprecision\t\trecall\t\t\tf1-score\n",
            "0.8852657004830918\t0.9079441760601181\t0.8852657004830918\t0.885357301768915\n",
            "--------------------------\n",
            "k = 9\n",
            "acc\t\t\tprecision\t\trecall\t\t\tf1-score\n",
            "0.8852657004830918\t0.9079441760601181\t0.8852657004830918\t0.885357301768915\n",
            "--------------------------\n",
            "k = 10\n",
            "acc\t\t\tprecision\t\trecall\t\t\tf1-score\n",
            "0.8852657004830918\t0.9079441760601181\t0.8852657004830918\t0.885357301768915\n",
            "--------------------------\n",
            "k = 11\n",
            "acc\t\t\tprecision\t\trecall\t\t\tf1-score\n",
            "0.8852657004830918\t0.9079441760601181\t0.8852657004830918\t0.885357301768915\n",
            "--------------------------\n",
            "k = 12\n",
            "acc\t\t\tprecision\t\trecall\t\t\tf1-score\n",
            "0.8852657004830918\t0.9079441760601181\t0.8852657004830918\t0.885357301768915\n",
            "--------------------------\n",
            "k = 13\n",
            "acc\t\t\tprecision\t\trecall\t\t\tf1-score\n",
            "0.8852657004830918\t0.9079441760601181\t0.8852657004830918\t0.885357301768915\n",
            "--------------------------\n",
            "k = 14\n",
            "acc\t\t\tprecision\t\trecall\t\t\tf1-score\n",
            "0.8707729468599034\t0.8998926462694579\t0.8707729468599034\t0.8718936910512998\n",
            "--------------------------\n",
            "k = 15\n",
            "acc\t\t\tprecision\t\trecall\t\t\tf1-score\n",
            "0.8852657004830918\t0.9079441760601181\t0.8852657004830918\t0.885357301768915\n",
            "--------------------------\n",
            "k = 16\n",
            "acc\t\t\tprecision\t\trecall\t\t\tf1-score\n",
            "0.8417874396135265\t0.9098331888186961\t0.8417874396135265\t0.8389369029457702\n",
            "--------------------------\n",
            "k = 17\n",
            "acc\t\t\tprecision\t\trecall\t\t\tf1-score\n",
            "0.842391304347826\t0.8849120082815735\t0.842391304347826\t0.8452710333145115\n",
            "--------------------------\n",
            "k = 18\n",
            "acc\t\t\tprecision\t\trecall\t\t\tf1-score\n",
            "0.8272946859903382\t0.8636607622114868\t0.8272946859903382\t0.8298877099148839\n",
            "--------------------------\n",
            "k = 19\n",
            "acc\t\t\tprecision\t\trecall\t\t\tf1-score\n",
            "0.7288647342995169\t0.8245772946859904\t0.7288647342995169\t0.706815044858523\n",
            "--------------------------\n",
            "k = 20\n",
            "acc\t\t\tprecision\t\trecall\t\t\tf1-score\n",
            "0.6564009661835749\t0.7954192546583849\t0.6564009661835749\t0.6278999039229217\n",
            "--------------------------\n",
            "k = 21\n",
            "acc\t\t\tprecision\t\trecall\t\t\tf1-score\n",
            "0.5144927536231884\t0.49473398984268546\t0.5144927536231884\t0.436653832649256\n",
            "--------------------------\n",
            "k = 22\n",
            "acc\t\t\tprecision\t\trecall\t\t\tf1-score\n",
            "0.5289855072463768\t0.502351975721541\t0.5289855072463768\t0.4524814451587907\n",
            "--------------------------\n"
          ]
        },
        {
          "name": "stderr",
          "output_type": "stream",
          "text": [
            "/usr/local/lib/python3.9/dist-packages/sklearn/metrics/_classification.py:1344: UndefinedMetricWarning: Precision is ill-defined and being set to 0.0 in labels with no predicted samples. Use `zero_division` parameter to control this behavior.\n",
            "  _warn_prf(average, modifier, msg_start, len(result))\n",
            "/usr/local/lib/python3.9/dist-packages/sklearn/metrics/_classification.py:1344: UndefinedMetricWarning: Precision is ill-defined and being set to 0.0 in labels with no predicted samples. Use `zero_division` parameter to control this behavior.\n",
            "  _warn_prf(average, modifier, msg_start, len(result))\n",
            "/usr/local/lib/python3.9/dist-packages/sklearn/metrics/_classification.py:1344: UndefinedMetricWarning: Precision is ill-defined and being set to 0.0 in labels with no predicted samples. Use `zero_division` parameter to control this behavior.\n",
            "  _warn_prf(average, modifier, msg_start, len(result))\n",
            "/usr/local/lib/python3.9/dist-packages/sklearn/metrics/_classification.py:1344: UndefinedMetricWarning: Precision is ill-defined and being set to 0.0 in labels with no predicted samples. Use `zero_division` parameter to control this behavior.\n",
            "  _warn_prf(average, modifier, msg_start, len(result))\n",
            "/usr/local/lib/python3.9/dist-packages/sklearn/metrics/_classification.py:1344: UndefinedMetricWarning: Precision is ill-defined and being set to 0.0 in labels with no predicted samples. Use `zero_division` parameter to control this behavior.\n",
            "  _warn_prf(average, modifier, msg_start, len(result))\n",
            "/usr/local/lib/python3.9/dist-packages/sklearn/metrics/_classification.py:1344: UndefinedMetricWarning: Precision is ill-defined and being set to 0.0 in labels with no predicted samples. Use `zero_division` parameter to control this behavior.\n",
            "  _warn_prf(average, modifier, msg_start, len(result))\n",
            "/usr/local/lib/python3.9/dist-packages/sklearn/metrics/_classification.py:1344: UndefinedMetricWarning: Precision is ill-defined and being set to 0.0 in labels with no predicted samples. Use `zero_division` parameter to control this behavior.\n",
            "  _warn_prf(average, modifier, msg_start, len(result))\n",
            "/usr/local/lib/python3.9/dist-packages/sklearn/metrics/_classification.py:1344: UndefinedMetricWarning: Precision is ill-defined and being set to 0.0 in labels with no predicted samples. Use `zero_division` parameter to control this behavior.\n",
            "  _warn_prf(average, modifier, msg_start, len(result))\n",
            "/usr/local/lib/python3.9/dist-packages/sklearn/metrics/_classification.py:1344: UndefinedMetricWarning: Precision is ill-defined and being set to 0.0 in labels with no predicted samples. Use `zero_division` parameter to control this behavior.\n",
            "  _warn_prf(average, modifier, msg_start, len(result))\n",
            "/usr/local/lib/python3.9/dist-packages/sklearn/metrics/_classification.py:1344: UndefinedMetricWarning: Precision is ill-defined and being set to 0.0 in labels with no predicted samples. Use `zero_division` parameter to control this behavior.\n",
            "  _warn_prf(average, modifier, msg_start, len(result))\n",
            "/usr/local/lib/python3.9/dist-packages/sklearn/metrics/_classification.py:1344: UndefinedMetricWarning: Precision is ill-defined and being set to 0.0 in labels with no predicted samples. Use `zero_division` parameter to control this behavior.\n",
            "  _warn_prf(average, modifier, msg_start, len(result))\n",
            "/usr/local/lib/python3.9/dist-packages/sklearn/metrics/_classification.py:1344: UndefinedMetricWarning: Precision is ill-defined and being set to 0.0 in labels with no predicted samples. Use `zero_division` parameter to control this behavior.\n",
            "  _warn_prf(average, modifier, msg_start, len(result))\n"
          ]
        },
        {
          "name": "stdout",
          "output_type": "stream",
          "text": [
            "k = 23\n",
            "acc\t\t\tprecision\t\trecall\t\t\tf1-score\n",
            "0.4855072463768116\t0.4629942036271959\t0.4855072463768116\t0.3872034654195633\n",
            "--------------------------\n",
            "k = 24\n",
            "acc\t\t\tprecision\t\trecall\t\t\tf1-score\n",
            "0.4571256038647343\t0.45384615384615384\t0.4571256038647343\t0.35747339362900005\n",
            "--------------------------\n",
            "k = 25\n",
            "acc\t\t\tprecision\t\trecall\t\t\tf1-score\n",
            "0.4432367149758454\t0.4464533152033152\t0.4432367149758454\t0.3478586705467847\n",
            "--------------------------\n"
          ]
        },
        {
          "name": "stderr",
          "output_type": "stream",
          "text": [
            "/usr/local/lib/python3.9/dist-packages/sklearn/metrics/_classification.py:1344: UndefinedMetricWarning: Precision is ill-defined and being set to 0.0 in labels with no predicted samples. Use `zero_division` parameter to control this behavior.\n",
            "  _warn_prf(average, modifier, msg_start, len(result))\n"
          ]
        }
      ],
      "source": [
        "# Evaluate different K values for K-NN\n",
        "k_range = list(range(26))[1:]\n",
        "\n",
        "for k in k_range:\n",
        "    kfold = KFold(n_splits=10, random_state=0, shuffle=True)\n",
        "    neigh = KNeighborsClassifier(n_neighbors=k)\n",
        "    cv_results = cross_validate(neigh, X_train, y_train, cv=kfold, scoring=scoring)\n",
        "    print(f'k = {k}')\n",
        "    print(\"acc\\t\\t\\tprecision\\t\\trecall\\t\\t\\tf1-score\")\n",
        "    print(f\"{np.mean(cv_results['test_accuracy'])}\\t{np.mean(cv_results['test_precision'])}\\t{np.mean(cv_results['test_recall'])}\\t{np.mean(cv_results['test_f1_score'])}\")\n",
        "    print(\"--------------------------\")"
      ]
    },
    {
      "cell_type": "code",
      "execution_count": 109,
      "metadata": {
        "colab": {
          "base_uri": "https://localhost:8080/"
        },
        "id": "m_KGim7PAu_9",
        "outputId": "6d859315-43ad-417f-da48-e1fee282d9d6"
      },
      "outputs": [
        {
          "name": "stdout",
          "output_type": "stream",
          "text": [
            "solver = newton-cg\n",
            "acc\t\t\tprecision\t\trecall\t\t\tf1-score\n",
            "0.5904500381388254\t0.6035811544711989\t0.5904500381388254\t0.5702284258084843\n",
            "--------------------------\n",
            "solver = sag\n",
            "acc\t\t\tprecision\t\trecall\t\t\tf1-score\n",
            "0.5904500381388254\t0.6035811544711989\t0.5904500381388254\t0.5702284258084843\n",
            "--------------------------\n",
            "solver = saga\n",
            "acc\t\t\tprecision\t\trecall\t\t\tf1-score\n",
            "0.5904500381388254\t0.6035811544711989\t0.5904500381388254\t0.5702284258084843\n",
            "--------------------------\n",
            "solver = lbfgs\n",
            "acc\t\t\tprecision\t\trecall\t\t\tf1-score\n",
            "0.5904500381388254\t0.6035811544711989\t0.5904500381388254\t0.5702284258084843\n",
            "--------------------------\n"
          ]
        }
      ],
      "source": [
        "# Evaluate different solver for Logistic Regression\n",
        "solvers = ['newton-cg', 'sag','saga', 'lbfgs']\n",
        "\n",
        "for solver in solvers:\n",
        "    kfold = KFold(n_splits=10, random_state=0, shuffle=True)\n",
        "    logist = LogisticRegression(random_state=0, solver=solver, max_iter=1000)\n",
        "    cv_results = cross_validate(logist, X_train, y_train, cv=kfold, scoring=scoring)\n",
        "    print(f'solver = {solver}')\n",
        "    print(\"acc\\t\\t\\tprecision\\t\\trecall\\t\\t\\tf1-score\")\n",
        "    print(f\"{np.mean(cv_results['test_accuracy'])}\\t{np.mean(cv_results['test_precision'])}\\t{np.mean(cv_results['test_recall'])}\\t{np.mean(cv_results['test_f1_score'])}\")\n",
        "    print(\"--------------------------\")"
      ]
    },
    {
      "cell_type": "code",
      "execution_count": 131,
      "metadata": {
        "colab": {
          "base_uri": "https://localhost:8080/"
        },
        "id": "W6rduhpRQCUJ",
        "outputId": "593b270f-ca52-4a6b-cc0a-8cb572dba4d6"
      },
      "outputs": [
        {
          "name": "stdout",
          "output_type": "stream",
          "text": [
            "max_depth = 2\n",
            "acc\tprecision\trecall\tf1-score\n",
            "0.8857142857142856\t0.9333333333333332\t0.8857142857142856\t0.8861224489795918\n",
            "--------------------------\n",
            "max_depth = 3\n",
            "acc\tprecision\trecall\tf1-score\n",
            "0.8857142857142856\t0.9333333333333332\t0.8857142857142856\t0.8861224489795918\n",
            "--------------------------\n",
            "max_depth = 4\n",
            "acc\tprecision\trecall\tf1-score\n",
            "0.8857142857142856\t0.9333333333333332\t0.8857142857142856\t0.8861224489795918\n",
            "--------------------------\n",
            "max_depth = 5\n",
            "acc\tprecision\trecall\tf1-score\n",
            "0.9\t0.9357142857142857\t0.9\t0.8980272108843537\n",
            "--------------------------\n",
            "max_depth = 6\n",
            "acc\tprecision\trecall\tf1-score\n",
            "0.9\t0.9357142857142857\t0.9\t0.8980272108843537\n",
            "--------------------------\n"
          ]
        }
      ],
      "source": [
        "# Evaluate different max_depth for Random Forest\n",
        "max_depths = [2, 3, 4, 5, 6]\n",
        "\n",
        "for max_depth in max_depths:\n",
        "    kfold = KFold(n_splits=10, random_state=0, shuffle=True)\n",
        "    RF = RandomForestClassifier(random_state=0, max_depth=max_depth)\n",
        "    cv_results = cross_validate(RF, X_train, y_train, cv=kfold, scoring=scoring)\n",
        "    print(f'max_depth = {max_depth}')\n",
        "    print(\"acc\\tprecision\\trecall\\tf1-score\")\n",
        "    print(f\"{np.mean(cv_results['test_accuracy'])}\\t{np.mean(cv_results['test_precision'])}\\t{np.mean(cv_results['test_recall'])}\\t{np.mean(cv_results['test_f1_score'])}\")\n",
        "    print(\"--------------------------\")"
      ]
    },
    {
      "cell_type": "code",
      "execution_count": 136,
      "metadata": {
        "colab": {
          "base_uri": "https://localhost:8080/"
        },
        "id": "8YbVKXz-URTk",
        "outputId": "a5f4cd57-adae-42ac-9965-6c109fc43345"
      },
      "outputs": [
        {
          "name": "stdout",
          "output_type": "stream",
          "text": [
            "learning rate = 0.001\n",
            "acc\tprecision\trecall\tf1-score\n",
            "0.7142857142857142\t0.8923809523809524\t0.7142857142857142\t0.6691836734693879\n",
            "--------------------------\n",
            "learning rate = 0.005\n",
            "acc\tprecision\trecall\tf1-score\n",
            "0.8571428571428571\t0.9328571428571429\t0.8571428571428571\t0.8434693877551019\n",
            "--------------------------\n",
            "learning rate = 0.01\n",
            "acc\tprecision\trecall\tf1-score\n",
            "0.8857142857142856\t0.9357142857142857\t0.8857142857142856\t0.8761904761904761\n",
            "--------------------------\n",
            "learning rate = 0.05\n",
            "acc\tprecision\trecall\tf1-score\n",
            "0.7285714285714285\t0.8519047619047619\t0.7285714285714285\t0.6834467120181407\n",
            "--------------------------\n",
            "learning rate = 0.1\n",
            "acc\tprecision\trecall\tf1-score\n",
            "0.8\t0.887142857142857\t0.8\t0.7663945578231293\n",
            "--------------------------\n",
            "learning rate = 0.5\n",
            "acc\tprecision\trecall\tf1-score\n",
            "0.7857142857142857\t0.8602380952380952\t0.7857142857142857\t0.7601360544217687\n",
            "--------------------------\n",
            "learning rate = 1.0\n",
            "acc\tprecision\trecall\tf1-score\n",
            "0.7\t0.828809523809524\t0.7\t0.6208163265306121\n",
            "--------------------------\n"
          ]
        }
      ],
      "source": [
        "# Evaluate different learning rate for Random Forest\n",
        "learning_rates = [0.001, 0.005, 0.01 ,0.05, 0.1, 0.5, 1.0]\n",
        "\n",
        "for learning_rate in learning_rates:\n",
        "    kfold = KFold(n_splits=10, random_state=0, shuffle=True)\n",
        "    AdaBoost = AdaBoostClassifier(random_state=0, learning_rate=learning_rate)\n",
        "    cv_results = cross_validate(AdaBoost, X_train, y_train, cv=kfold, scoring=scoring)\n",
        "    print(f'learning rate = {learning_rate}')\n",
        "    print(\"acc\\tprecision\\trecall\\tf1-score\")\n",
        "    print(f\"{np.mean(cv_results['test_accuracy'])}\\t{np.mean(cv_results['test_precision'])}\\t{np.mean(cv_results['test_recall'])}\\t{np.mean(cv_results['test_f1_score'])}\")\n",
        "    print(\"--------------------------\")"
      ]
    },
    {
      "cell_type": "code",
      "execution_count": 124,
      "metadata": {
        "colab": {
          "base_uri": "https://localhost:8080/",
          "height": 404
        },
        "id": "lTA1l2PYf-mc",
        "outputId": "f3697283-0130-4129-99ba-ec842e59e28e"
      },
      "outputs": [
        {
          "data": {
            "image/png": "[encoded data removed]",
            "text/plain": [
              "<Figure size 720x432 with 2 Axes>"
            ]
          },
          "metadata": {
            "needs_background": "light"
          },
          "output_type": "display_data"
        }
      ],
      "source": [
        "\n",
        "fig, ax = plt.subplots(nrows=1, ncols=2, figsize=(10, 6), sharey=True)\n",
        "common_params = {\n",
        "    \"X\": X_train,\n",
        "    \"y\": y_train,\n",
        "    \"train_sizes\": np.linspace(0.1, 1.0, 5),\n",
        "    \"cv\": KFold(10, shuffle=True, random_state=0),\n",
        "    \"score_type\": \"both\",\n",
        "    \"n_jobs\": 4,\n",
        "    \"line_kw\": {\"marker\": \"o\"},\n",
        "    \"std_display_style\": \"fill_between\",\n",
        "    \"score_name\": \"Accuracy\",\n",
        "}\n",
        "neigh = KNeighborsClassifier(n_neighbors=10)\n",
        "logist = LogisticRegression(random_state=0, solver='lbfgs', max_iter=1000)\n",
        "RF = RandomForestClassifier(random_state=0)\n",
        "AdaBoost = AdaBoostClassifier(random_state=0)\n",
        "models = [(neigh,'K-NN'),\n",
        "        (logist,'Logistic Regression')]\n",
        "models = [(RF,'RandomForest'),\n",
        "        (AdaBoost, 'AdaBoost')]\n",
        "for ax_idx, (model, model_name) in enumerate(models):\n",
        "    LearningCurveDisplay.from_estimator(model, **common_params, ax=ax[ax_idx])\n",
        "    handles, label = ax[ax_idx].get_legend_handles_labels()\n",
        "    ax[ax_idx].legend(handles[:2], [\"Training Score\", \"Test Score\"])\n",
        "    ax[ax_idx].set_title(f\"Learning Curve for {model_name}\")"
      ]
    }
  ],
  "metadata": {
    "colab": {
      "provenance": []
    },
    "kernelspec": {
      "display_name": "Python 3",
      "name": "python3"
    },
    "language_info": {
      "codemirror_mode": {
        "name": "ipython",
        "version": 3
      },
      "file_extension": ".py",
      "mimetype": "text/x-python",
      "name": "python",
      "nbconvert_exporter": "python",
      "pygments_lexer": "ipython3",
      "version": "3.10.9"
    }
  },
  "nbformat": 4,
  "nbformat_minor": 0
}
